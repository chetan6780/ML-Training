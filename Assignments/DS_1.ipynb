{
  "nbformat": 4,
  "nbformat_minor": 0,
  "metadata": {
    "colab": {
      "name": "DS_1.ipynb",
      "provenance": [],
      "mount_file_id": "1wSApwjjMFjGy09KyYjgsYXxp0DlcUVco",
      "authorship_tag": "ABX9TyPs0khr/k+XctWL21uY3eEs",
      "include_colab_link": true
    },
    "kernelspec": {
      "name": "python3",
      "display_name": "Python 3"
    },
    "language_info": {
      "name": "python"
    }
  },
  "cells": [
    {
      "cell_type": "markdown",
      "metadata": {
        "id": "view-in-github",
        "colab_type": "text"
      },
      "source": [
        "<a href=\"https://colab.research.google.com/github/chetan6780/ML-Training/blob/master/Assignments/DS_1.ipynb\" target=\"_parent\"><img src=\"https://colab.research.google.com/assets/colab-badge.svg\" alt=\"Open In Colab\"/></a>"
      ]
    },
    {
      "cell_type": "markdown",
      "metadata": {
        "id": "-f0tDaxQIVcA"
      },
      "source": [
        "### Q.1 Import the numpy package under the name np and Print the numpy version and the configuration\n"
      ]
    },
    {
      "cell_type": "code",
      "metadata": {
        "id": "Yhn1mBfX_Z8V",
        "colab": {
          "base_uri": "https://localhost:8080/"
        },
        "outputId": "e71e2fe4-a729-4caf-9cef-bc28ffd8cac3"
      },
      "source": [
        "import numpy as np\n",
        "print(np.__version__)\n",
        "print(np.show_config())"
      ],
      "execution_count": 1,
      "outputs": [
        {
          "output_type": "stream",
          "text": [
            "1.19.5\n",
            "blas_mkl_info:\n",
            "  NOT AVAILABLE\n",
            "blis_info:\n",
            "  NOT AVAILABLE\n",
            "openblas_info:\n",
            "    libraries = ['openblas', 'openblas']\n",
            "    library_dirs = ['/usr/local/lib']\n",
            "    language = c\n",
            "    define_macros = [('HAVE_CBLAS', None)]\n",
            "blas_opt_info:\n",
            "    libraries = ['openblas', 'openblas']\n",
            "    library_dirs = ['/usr/local/lib']\n",
            "    language = c\n",
            "    define_macros = [('HAVE_CBLAS', None)]\n",
            "lapack_mkl_info:\n",
            "  NOT AVAILABLE\n",
            "openblas_lapack_info:\n",
            "    libraries = ['openblas', 'openblas']\n",
            "    library_dirs = ['/usr/local/lib']\n",
            "    language = c\n",
            "    define_macros = [('HAVE_CBLAS', None)]\n",
            "lapack_opt_info:\n",
            "    libraries = ['openblas', 'openblas']\n",
            "    library_dirs = ['/usr/local/lib']\n",
            "    language = c\n",
            "    define_macros = [('HAVE_CBLAS', None)]\n",
            "None\n"
          ],
          "name": "stdout"
        }
      ]
    },
    {
      "cell_type": "markdown",
      "metadata": {
        "id": "2Dqi6FGcJCDE"
      },
      "source": [
        "### Q.2 Create a null vector of size 10\n"
      ]
    },
    {
      "cell_type": "code",
      "metadata": {
        "colab": {
          "base_uri": "https://localhost:8080/"
        },
        "id": "SqaHDIqBJGP4",
        "outputId": "25845821-b16d-47a7-ef4f-92367fe563f3"
      },
      "source": [
        "vector = np.zeros(10)\n",
        "print(vector)"
      ],
      "execution_count": 2,
      "outputs": [
        {
          "output_type": "stream",
          "text": [
            "[0. 0. 0. 0. 0. 0. 0. 0. 0. 0.]\n"
          ],
          "name": "stdout"
        }
      ]
    },
    {
      "cell_type": "markdown",
      "metadata": {
        "id": "0N3thQ0QJI7r"
      },
      "source": [
        "### Q.3 Create Simple 1-D array and check type and check data types in array.\n"
      ]
    },
    {
      "cell_type": "code",
      "metadata": {
        "colab": {
          "base_uri": "https://localhost:8080/"
        },
        "id": "NlFZXZY7JMKr",
        "outputId": "e0833c67-0b9f-4ace-a2d0-d123b12d95d6"
      },
      "source": [
        "arr = np.array([1, 2, 3, 4, 5, 6, 7, 8, 9, 0])\n",
        "print(\"Datatype:\", arr.dtype)"
      ],
      "execution_count": 3,
      "outputs": [
        {
          "output_type": "stream",
          "text": [
            "Datatype: int64\n"
          ],
          "name": "stdout"
        }
      ]
    },
    {
      "cell_type": "markdown",
      "metadata": {
        "id": "vO-HidO8JPqZ"
      },
      "source": [
        "\n",
        "### Q.4 How to find number of dimensions, bytes per element and bytes of memory used? To find the number of dimensions we use numpy.ndim , To find the bytes per element we use numpy.itemsize and we use numpy.nbytes to find memory used .\n"
      ]
    },
    {
      "cell_type": "code",
      "metadata": {
        "colab": {
          "base_uri": "https://localhost:8080/"
        },
        "id": "i6HzEw82JVga",
        "outputId": "57784ca1-4cc0-447b-d771-e9e178ab9a37"
      },
      "source": [
        "arr = np.array([1, 2, 3, 4, 5, 6, 7, 8, 9, 0])\n",
        "print(\"Dimensions:\", arr.ndim)\n",
        "print(\"Bytes per element:\", arr.itemsize)\n",
        "print(\"Memory used:\", arr.nbytes)"
      ],
      "execution_count": 4,
      "outputs": [
        {
          "output_type": "stream",
          "text": [
            "Dimensions: 1\n",
            "Bytes per element: 8\n",
            "Memory used: 80\n"
          ],
          "name": "stdout"
        }
      ]
    },
    {
      "cell_type": "markdown",
      "metadata": {
        "id": "cJj-dtAjJY6a"
      },
      "source": [
        "### 5 Create a null vector of size 10 but the fifth value which is 1\n"
      ]
    },
    {
      "cell_type": "code",
      "metadata": {
        "colab": {
          "base_uri": "https://localhost:8080/"
        },
        "id": "1gwHUyR1JdIq",
        "outputId": "688f4bac-7040-4f41-f628-e71a0c310be5"
      },
      "source": [
        "vector = (np.arange(10) == 4)\n",
        "vector = vector *1\n",
        "print(vector)"
      ],
      "execution_count": 5,
      "outputs": [
        {
          "output_type": "stream",
          "text": [
            "[0 0 0 0 1 0 0 0 0 0]\n"
          ],
          "name": "stdout"
        }
      ]
    },
    {
      "cell_type": "markdown",
      "metadata": {
        "id": "PJqSBnMpJfjK"
      },
      "source": [
        "### Q.6 Create a vector with values ranging from 10 to 49\n"
      ]
    },
    {
      "cell_type": "code",
      "metadata": {
        "colab": {
          "base_uri": "https://localhost:8080/"
        },
        "id": "q5jeWVIDJify",
        "outputId": "b2fcc6b0-8ce5-4555-c6b4-16e0213f746b"
      },
      "source": [
        "vector = np.arange(10, 50)\n",
        "print(vector)"
      ],
      "execution_count": 6,
      "outputs": [
        {
          "output_type": "stream",
          "text": [
            "[10 11 12 13 14 15 16 17 18 19 20 21 22 23 24 25 26 27 28 29 30 31 32 33\n",
            " 34 35 36 37 38 39 40 41 42 43 44 45 46 47 48 49]\n"
          ],
          "name": "stdout"
        }
      ]
    },
    {
      "cell_type": "markdown",
      "metadata": {
        "id": "DqXJhg7qJlPS"
      },
      "source": [
        "### Q.7 Reverse a vector (first element becomes last)\n"
      ]
    },
    {
      "cell_type": "code",
      "metadata": {
        "colab": {
          "base_uri": "https://localhost:8080/"
        },
        "id": "ArsLeLU2Jp6C",
        "outputId": "b64f9d94-5062-4cd5-e8f2-918b7ec866d5"
      },
      "source": [
        "array = np.array([1, 2, 3, 4, 5, 6])\n",
        "print(\"Original vector:\", array)\n",
        "print(\"Reverse vector:\", array[::-1])"
      ],
      "execution_count": 7,
      "outputs": [
        {
          "output_type": "stream",
          "text": [
            "Original vector: [1 2 3 4 5 6]\n",
            "Reverse vector: [6 5 4 3 2 1]\n"
          ],
          "name": "stdout"
        }
      ]
    },
    {
      "cell_type": "markdown",
      "metadata": {
        "id": "nHm0qijQJrux"
      },
      "source": [
        "### Q.8 Create a 3x3 matrix with values ranging from 0 to 8\n",
        "\n",
        "\n"
      ]
    },
    {
      "cell_type": "code",
      "metadata": {
        "colab": {
          "base_uri": "https://localhost:8080/"
        },
        "id": "qO6euS9lJxfi",
        "outputId": "9ad57b37-71cf-42d3-8504-3e91eaaff2dd"
      },
      "source": [
        "arr = np.arange(9).reshape(3, 3)\n",
        "print(arr)"
      ],
      "execution_count": 8,
      "outputs": [
        {
          "output_type": "stream",
          "text": [
            "[[0 1 2]\n",
            " [3 4 5]\n",
            " [6 7 8]]\n"
          ],
          "name": "stdout"
        }
      ]
    },
    {
      "cell_type": "markdown",
      "metadata": {
        "id": "YmuMRzs7J09D"
      },
      "source": [
        "### Q.9 Find indices of non-zero elements from [1,2,0,0,4,0]\n"
      ]
    },
    {
      "cell_type": "code",
      "metadata": {
        "colab": {
          "base_uri": "https://localhost:8080/"
        },
        "id": "mj8W7xznJ3Sj",
        "outputId": "53944878-8e58-45df-dda7-74b3c7ee09b1"
      },
      "source": [
        "arr = np.array([1,2,0,0,4,0])\n",
        "print(\"Index of non zero elements:\",*np.nonzero(arr))"
      ],
      "execution_count": 9,
      "outputs": [
        {
          "output_type": "stream",
          "text": [
            "Index of non zero elements: [0 1 4]\n"
          ],
          "name": "stdout"
        }
      ]
    },
    {
      "cell_type": "markdown",
      "metadata": {
        "id": "xb65772YJ5Kj"
      },
      "source": [
        "### Q.10 Create a 3x3 identity matrix\n"
      ]
    },
    {
      "cell_type": "code",
      "metadata": {
        "colab": {
          "base_uri": "https://localhost:8080/"
        },
        "id": "uICILz7ZJ76Z",
        "outputId": "bfa58328-726a-4f62-a123-c4cb8714b243"
      },
      "source": [
        "eye_mat = np.eye(3, 3)\n",
        "print(eye_mat)"
      ],
      "execution_count": 10,
      "outputs": [
        {
          "output_type": "stream",
          "text": [
            "[[1. 0. 0.]\n",
            " [0. 1. 0.]\n",
            " [0. 0. 1.]]\n"
          ],
          "name": "stdout"
        }
      ]
    },
    {
      "cell_type": "markdown",
      "metadata": {
        "id": "4GjVrvrLKCHS"
      },
      "source": [
        "### Q.11 Create a 3x3x3 array with random values.\n"
      ]
    },
    {
      "cell_type": "code",
      "metadata": {
        "colab": {
          "base_uri": "https://localhost:8080/"
        },
        "id": "a-Ver00UKFii",
        "outputId": "163c726e-3557-4833-f4b3-3ac90ea104c7"
      },
      "source": [
        "mat = np.random.random((3, 3, 3))\n",
        "print(mat)"
      ],
      "execution_count": 11,
      "outputs": [
        {
          "output_type": "stream",
          "text": [
            "[[[0.42672605 0.00650611 0.10746686]\n",
            "  [0.68930513 0.14200698 0.80322591]\n",
            "  [0.29175974 0.87181559 0.81629441]]\n",
            "\n",
            " [[0.14176624 0.139376   0.11085023]\n",
            "  [0.47981311 0.57276411 0.70211725]\n",
            "  [0.01026623 0.43557813 0.57649832]]\n",
            "\n",
            " [[0.22536622 0.47903466 0.51140107]\n",
            "  [0.88130402 0.40364459 0.17165186]\n",
            "  [0.75881656 0.66955843 0.55882158]]]\n"
          ],
          "name": "stdout"
        }
      ]
    },
    {
      "cell_type": "markdown",
      "metadata": {
        "id": "Xb_nCA71KHir"
      },
      "source": [
        "### Q.12 Create a 10x10 array with random values and find the minimum and maximum values\n"
      ]
    },
    {
      "cell_type": "code",
      "metadata": {
        "colab": {
          "base_uri": "https://localhost:8080/"
        },
        "id": "tpTYBtXnKKZ6",
        "outputId": "12adce47-d953-43a5-f988-ac57ba5917af"
      },
      "source": [
        "arr = np.random.random((10, 10))\n",
        "print(arr)\n",
        "print(\"\\nMinimum element is:\", arr.min())\n",
        "print(\"Maximum element is:\", arr.max())"
      ],
      "execution_count": 12,
      "outputs": [
        {
          "output_type": "stream",
          "text": [
            "[[0.2910428  0.3948103  0.23456613 0.24318428 0.3776848  0.62319487\n",
            "  0.12070475 0.3060989  0.98789125 0.04517806]\n",
            " [0.90723269 0.67213835 0.56669012 0.02226633 0.58913566 0.61403401\n",
            "  0.92222023 0.87219552 0.27362958 0.24924595]\n",
            " [0.29952106 0.56054763 0.12986382 0.96676286 0.13659514 0.11520335\n",
            "  0.95205    0.60215945 0.6456325  0.36348348]\n",
            " [0.62530085 0.48572931 0.40210348 0.79617375 0.22376876 0.9875672\n",
            "  0.81319376 0.32698368 0.51131978 0.11140488]\n",
            " [0.94706128 0.47673567 0.53741485 0.34832888 0.93999727 0.40502771\n",
            "  0.33929018 0.53190457 0.70955176 0.16357979]\n",
            " [0.07948308 0.81868518 0.78487563 0.01106093 0.35398887 0.50388899\n",
            "  0.87239062 0.16862741 0.71480707 0.03133308]\n",
            " [0.33318645 0.78944065 0.39507834 0.72990637 0.92509732 0.44588877\n",
            "  0.16813903 0.96423261 0.5665126  0.65304152]\n",
            " [0.16007262 0.51323771 0.63955402 0.09469104 0.56763544 0.23013835\n",
            "  0.4252664  0.76615433 0.26082007 0.27324772]\n",
            " [0.63387535 0.41844988 0.10329843 0.76496675 0.78280137 0.41912907\n",
            "  0.63325454 0.20053403 0.66528026 0.22592455]\n",
            " [0.80840048 0.02878992 0.17051496 0.55443428 0.62960152 0.92029495\n",
            "  0.54789408 0.61736712 0.45700074 0.33535886]]\n",
            "\n",
            "Minimum element is: 0.011060927109012741\n",
            "Maximum element is: 0.98789125324233\n"
          ],
          "name": "stdout"
        }
      ]
    },
    {
      "cell_type": "markdown",
      "metadata": {
        "id": "mVMnT5B3KQ4k"
      },
      "source": [
        "### Q.13 Create a random vector of size 30 and find the mean value.\n"
      ]
    },
    {
      "cell_type": "code",
      "metadata": {
        "colab": {
          "base_uri": "https://localhost:8080/"
        },
        "id": "BYjlQeZGKVmy",
        "outputId": "b2f0e3fd-660e-4025-cd4a-a47f816a9633"
      },
      "source": [
        "vac = np.random.random((10))\n",
        "print(vac)\n",
        "print(\"Mean value of the vector is:\", vac.mean())"
      ],
      "execution_count": 13,
      "outputs": [
        {
          "output_type": "stream",
          "text": [
            "[0.81102924 0.10285744 0.33993848 0.90522719 0.3953494  0.41704542\n",
            " 0.89198266 0.02055135 0.27504363 0.82515446]\n",
            "Mean value of the vector is: 0.49841792767974624\n"
          ],
          "name": "stdout"
        }
      ]
    },
    {
      "cell_type": "markdown",
      "metadata": {
        "id": "NYbrd5uwKZJL"
      },
      "source": [
        "## Q.14 Create a 2d array with 1 on the border and 0 inside.\n"
      ]
    },
    {
      "cell_type": "code",
      "metadata": {
        "colab": {
          "base_uri": "https://localhost:8080/"
        },
        "id": "K9uTinqDKg96",
        "outputId": "8d1b7c72-172b-474c-d503-4f13ce8157a7"
      },
      "source": [
        "arr = np.ones((6, 6))\n",
        "arr[1:-1, 1:-1] = 0\n",
        "print(arr)"
      ],
      "execution_count": 14,
      "outputs": [
        {
          "output_type": "stream",
          "text": [
            "[[1. 1. 1. 1. 1. 1.]\n",
            " [1. 0. 0. 0. 0. 1.]\n",
            " [1. 0. 0. 0. 0. 1.]\n",
            " [1. 0. 0. 0. 0. 1.]\n",
            " [1. 0. 0. 0. 0. 1.]\n",
            " [1. 1. 1. 1. 1. 1.]]\n"
          ],
          "name": "stdout"
        }
      ]
    },
    {
      "cell_type": "markdown",
      "metadata": {
        "id": "E5Fj8JAPKjU6"
      },
      "source": [
        "### Q.15 How to add a border (filled with 0's) around an existing array?\n",
        "As demonstrated in previous question it is possible with slicing, we just need get the values at border and set them to zero thats it.\n",
        "```\n",
        "arr[1:-1, 1:-1] = 0\n",
        "```"
      ]
    },
    {
      "cell_type": "markdown",
      "metadata": {
        "id": "UNFCIsRYK08W"
      },
      "source": [
        "### Q.16 How to Accessing/Changing specific elements, rows, columns, etc in Numpy array?\n",
        "\n",
        "\n",
        "Example - [[ 1 2 3 4 5 6 7] [ 8 9 10 11 12 13 14]]\n",
        "Get 13,get first row only , get 3rd column only, get [2, 4, 6], replace 13 by 20\n"
      ]
    },
    {
      "cell_type": "code",
      "metadata": {
        "colab": {
          "base_uri": "https://localhost:8080/"
        },
        "id": "GGhM5cN9K9yh",
        "outputId": "a85ced9a-8722-443d-aefa-e6e6a9b7e1c2"
      },
      "source": [
        "arr = np.array([[1, 2, 3, 4, 5, 6, 7], [8, 9, 10, 11, 12, 13, 14]])\n",
        "print(arr)\n",
        "print(\"\\nGet 13:\\n\", arr[1][5])\n",
        "print(\"\\nFirst row only:\\n\", arr[0])\n",
        "print(\"\\n3rd column only:\\n\", arr[:, 3:4])\n",
        "print(\"\\nGet [2, 4, 6]:\\n\", arr[:1, 1:6:2])\n",
        "print(\"\\nReplace 13 by 20:\")\n",
        "arr[1][5] = 20\n",
        "print(arr)\n",
        "\n",
        "\n"
      ],
      "execution_count": 15,
      "outputs": [
        {
          "output_type": "stream",
          "text": [
            "[[ 1  2  3  4  5  6  7]\n",
            " [ 8  9 10 11 12 13 14]]\n",
            "\n",
            "Get 13:\n",
            " 13\n",
            "\n",
            "First row only:\n",
            " [1 2 3 4 5 6 7]\n",
            "\n",
            "3rd column only:\n",
            " [[ 4]\n",
            " [11]]\n",
            "\n",
            "Get [2, 4, 6]:\n",
            " [[2 4 6]]\n",
            "\n",
            "Replace 13 by 20:\n",
            "[[ 1  2  3  4  5  6  7]\n",
            " [ 8  9 10 11 12 20 14]]\n"
          ],
          "name": "stdout"
        }
      ]
    },
    {
      "cell_type": "markdown",
      "metadata": {
        "id": "swsdnJ_9LNR6"
      },
      "source": [
        "### Q.17  How to Convert a 1D array to a 2D array with 2 rows.\n"
      ]
    },
    {
      "cell_type": "code",
      "metadata": {
        "colab": {
          "base_uri": "https://localhost:8080/"
        },
        "id": "ARdzsJ8TLQyx",
        "outputId": "646c3c57-0cbb-45b7-dd5e-8223ceeaa930"
      },
      "source": [
        "arr = np.ones((10))\n",
        "arr = np.reshape(arr,(2,5))\n",
        "print(arr)"
      ],
      "execution_count": 16,
      "outputs": [
        {
          "output_type": "stream",
          "text": [
            "[[1. 1. 1. 1. 1.]\n",
            " [1. 1. 1. 1. 1.]]\n"
          ],
          "name": "stdout"
        }
      ]
    },
    {
      "cell_type": "markdown",
      "metadata": {
        "id": "-RgCIOVILWBj"
      },
      "source": [
        "### 18  Create the following pattern without hardcoding. Use only numpy functions and the below input array a.\n",
        "    Input:\n",
        "    a = np.array([1,2,3])\n",
        "\n",
        "    Desired Output:\n",
        "    #>> array([1, 1, 1, 2, 2, 2, 3, 3, 3, 1, 2, 3, 1, 2, 3, 1, 2, 3])\n"
      ]
    },
    {
      "cell_type": "code",
      "metadata": {
        "colab": {
          "base_uri": "https://localhost:8080/"
        },
        "id": "DyQysbtaLofN",
        "outputId": "cc1accd7-d868-46c2-c3e6-68c2db6bc24f"
      },
      "source": [
        "a = np.array([1, 2, 3])\n",
        "a = np.r_[np.repeat(a, 3), np.tile(a, 3)]\n",
        "print(a)"
      ],
      "execution_count": 17,
      "outputs": [
        {
          "output_type": "stream",
          "text": [
            "[1 1 1 2 2 2 3 3 3 1 2 3 1 2 3 1 2 3]\n"
          ],
          "name": "stdout"
        }
      ]
    },
    {
      "cell_type": "markdown",
      "metadata": {
        "id": "sXiVMw-1LuWy"
      },
      "source": [
        "### Q.19  Write a program to show how Numpy taking less memory compared to Python List?\n",
        "\n"
      ]
    },
    {
      "cell_type": "code",
      "metadata": {
        "colab": {
          "base_uri": "https://localhost:8080/"
        },
        "id": "MJBbpNIiL5uC",
        "outputId": "2c6bc3d4-97bf-489c-d4d1-afdef307c622"
      },
      "source": [
        "import numpy as np\n",
        "import sys\n",
        "\n",
        "li = range(1000)\n",
        "print(\"Size of each element of list in bytes: \", sys.getsizeof(li))\n",
        "print(\"Size of the whole list in bytes: \", sys.getsizeof(li)*len(li))\n",
        "\n",
        "arr = np.arange(1000)\n",
        "print(\"Size of each element of the Numpy array in bytes: \", arr.itemsize)\n",
        "print(\"Size of the whole Numpy array in bytes: \", arr.size*arr.itemsize)"
      ],
      "execution_count": 18,
      "outputs": [
        {
          "output_type": "stream",
          "text": [
            "Size of each element of list in bytes:  48\n",
            "Size of the whole list in bytes:  48000\n",
            "Size of each element of the Numpy array in bytes:  8\n",
            "Size of the whole Numpy array in bytes:  8000\n"
          ],
          "name": "stdout"
        }
      ]
    },
    {
      "cell_type": "markdown",
      "metadata": {
        "id": "IVbSUs5rL89r"
      },
      "source": [
        "### Q.20  Write a program to show how Numpy taking less time compared to Python List?\n"
      ]
    },
    {
      "cell_type": "code",
      "metadata": {
        "colab": {
          "base_uri": "https://localhost:8080/"
        },
        "id": "w7gWQu8NL7T_",
        "outputId": "45dd2375-60ba-47c5-a30a-d8af09b9c41b"
      },
      "source": [
        "import time\n",
        "\n",
        "size = 1000000\n",
        "\n",
        "list1 = range(size)\n",
        "list2 = range(size)\n",
        "array1 = np.arange(size)\n",
        "array2 = np.arange(size)\n",
        "\n",
        "start = time.time()\n",
        "resList = [(a * b) for a, b in zip(list1, list2)]\n",
        "print(\"Multiplication time for list:\",(time.time() - start), \"seconds.\")\n",
        "\n",
        "start = time.time()\n",
        "resultantArray = array1 * array2\n",
        "print(\"Multiplication time for NumPy array:\",(time.time() - start),\"seconds.\")\n"
      ],
      "execution_count": 19,
      "outputs": [
        {
          "output_type": "stream",
          "text": [
            "Multiplication time for list: 0.12893033027648926 seconds.\n",
            "Multiplication time for NumPy array: 0.0028934478759765625 seconds.\n"
          ],
          "name": "stdout"
        }
      ]
    },
    {
      "cell_type": "markdown",
      "metadata": {
        "id": "-0Y_BwP7MdXH"
      },
      "source": [
        "-----------\n"
      ]
    }
  ]
}