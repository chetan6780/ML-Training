{
  "nbformat": 4,
  "nbformat_minor": 0,
  "metadata": {
    "colab": {
      "name": "ML_1.ipynb",
      "provenance": [],
      "mount_file_id": "1GsrxmzkKCq2-AfSajvNCkB9aJ7ID40EO",
      "authorship_tag": "ABX9TyNXd50TZd6rTPSAscRdsul9",
      "include_colab_link": true
    },
    "kernelspec": {
      "name": "python3",
      "display_name": "Python 3"
    },
    "language_info": {
      "name": "python"
    }
  },
  "cells": [
    {
      "cell_type": "markdown",
      "metadata": {
        "id": "view-in-github",
        "colab_type": "text"
      },
      "source": [
        "<a href=\"https://colab.research.google.com/github/chetan6780/ML-Training/blob/master/Assignments/ML_1.ipynb\" target=\"_parent\"><img src=\"https://colab.research.google.com/assets/colab-badge.svg\" alt=\"Open In Colab\"/></a>"
      ]
    },
    {
      "cell_type": "markdown",
      "metadata": {
        "id": "NiTrR1Ul92KQ"
      },
      "source": [
        "# Prediction using Supervised Machine Learning using Simple Linear Regression.\n"
      ]
    },
    {
      "cell_type": "markdown",
      "metadata": {
        "id": "dLn7jbAv-Kql"
      },
      "source": [
        "Find the students scores based on their study hours. This is a simple Regression problem type because it has only two variables."
      ]
    },
    {
      "cell_type": "code",
      "metadata": {
        "id": "UZYNxSVA91MZ"
      },
      "source": [
        "import numpy as np\n",
        "import pandas as pd\n",
        "import matplotlib.pyplot as plt"
      ],
      "execution_count": 1,
      "outputs": []
    },
    {
      "cell_type": "code",
      "metadata": {
        "id": "lWWEjHgwCcLR"
      },
      "source": [
        "# Importing the dataset\n",
        "dataset = pd.read_csv('/content/drive/MyDrive/Colab Notebooks/data/StudentHoursScores.csv')\n",
        "x = dataset.iloc[:, :-1].values\n",
        "y = dataset.iloc[:, -1].values"
      ],
      "execution_count": 2,
      "outputs": []
    },
    {
      "cell_type": "code",
      "metadata": {
        "colab": {
          "base_uri": "https://localhost:8080/"
        },
        "id": "54UEouqlCmjL",
        "outputId": "5873663d-331c-4545-c476-446b4e7c3878"
      },
      "source": [
        "x.shape"
      ],
      "execution_count": 3,
      "outputs": [
        {
          "output_type": "execute_result",
          "data": {
            "text/plain": [
              "(23, 1)"
            ]
          },
          "metadata": {
            "tags": []
          },
          "execution_count": 3
        }
      ]
    },
    {
      "cell_type": "code",
      "metadata": {
        "colab": {
          "base_uri": "https://localhost:8080/"
        },
        "id": "LbqjKoonCp7d",
        "outputId": "d6fafefe-1e57-4a08-f91b-487619bcb092"
      },
      "source": [
        "y.shape"
      ],
      "execution_count": 4,
      "outputs": [
        {
          "output_type": "execute_result",
          "data": {
            "text/plain": [
              "(23,)"
            ]
          },
          "metadata": {
            "tags": []
          },
          "execution_count": 4
        }
      ]
    },
    {
      "cell_type": "markdown",
      "metadata": {
        "id": "KIqQsVsaD94X"
      },
      "source": [
        "### Splitting the dataset into train and test data.\n"
      ]
    },
    {
      "cell_type": "code",
      "metadata": {
        "id": "XemMxEHpDFa9"
      },
      "source": [
        "from sklearn.model_selection import train_test_split\n",
        "x_train, x_test, y_train, y_test = train_test_split(x, y, test_size = 1/3, random_state = 3)"
      ],
      "execution_count": 5,
      "outputs": []
    },
    {
      "cell_type": "markdown",
      "metadata": {
        "id": "70nLCkXDEHtF"
      },
      "source": [
        "### Fitting Simple Linear Regression to the Training set.\n"
      ]
    },
    {
      "cell_type": "code",
      "metadata": {
        "colab": {
          "base_uri": "https://localhost:8080/"
        },
        "id": "3q532b98Dmdu",
        "outputId": "1190cb84-f4ec-4d32-adf4-8515109bfbfb"
      },
      "source": [
        "from sklearn.linear_model import LinearRegression\n",
        "model = LinearRegression()\n",
        "model.fit(x_train, y_train)"
      ],
      "execution_count": 6,
      "outputs": [
        {
          "output_type": "execute_result",
          "data": {
            "text/plain": [
              "LinearRegression(copy_X=True, fit_intercept=True, n_jobs=None, normalize=False)"
            ]
          },
          "metadata": {
            "tags": []
          },
          "execution_count": 6
        }
      ]
    },
    {
      "cell_type": "markdown",
      "metadata": {
        "id": "t0J7k54qEYev"
      },
      "source": [
        "### Predicting the Test set results\n"
      ]
    },
    {
      "cell_type": "code",
      "metadata": {
        "id": "f5tkm7jSDyw4"
      },
      "source": [
        "y_predict = model.predict(x_test)"
      ],
      "execution_count": 7,
      "outputs": []
    },
    {
      "cell_type": "code",
      "metadata": {
        "colab": {
          "base_uri": "https://localhost:8080/"
        },
        "id": "IfHc1lo4GSy_",
        "outputId": "dd4361b4-bf0b-42c5-eff2-952e57f927b0"
      },
      "source": [
        "y_predict"
      ],
      "execution_count": 8,
      "outputs": [
        {
          "output_type": "execute_result",
          "data": {
            "text/plain": [
              "array([29.75275488, 14.96590007, 24.82380328, 31.72433552, 83.97122251,\n",
              "       64.2554161 , 58.34067417, 44.53960969])"
            ]
          },
          "metadata": {
            "tags": []
          },
          "execution_count": 8
        }
      ]
    },
    {
      "cell_type": "code",
      "metadata": {
        "colab": {
          "base_uri": "https://localhost:8080/"
        },
        "id": "AA_arnHRGYf-",
        "outputId": "133f0773-72c0-4a2a-da97-9db0df1c1a8b"
      },
      "source": [
        "y_test"
      ],
      "execution_count": 9,
      "outputs": [
        {
          "output_type": "execute_result",
          "data": {
            "text/plain": [
              "array([30, 14, 21, 32, 85, 66, 60, 45])"
            ]
          },
          "metadata": {
            "tags": []
          },
          "execution_count": 9
        }
      ]
    },
    {
      "cell_type": "code",
      "metadata": {
        "colab": {
          "base_uri": "https://localhost:8080/"
        },
        "id": "ptN_av19GCDO",
        "outputId": "0bfb46a1-9862-4af8-e08f-3b6178bf87dd"
      },
      "source": [
        "# predicting score of student in if he/she study 9 hrs\n",
        "model.predict([[9]])"
      ],
      "execution_count": 10,
      "outputs": [
        {
          "output_type": "execute_result",
          "data": {
            "text/plain": [
              "array([88.90017411])"
            ]
          },
          "metadata": {
            "tags": []
          },
          "execution_count": 10
        }
      ]
    },
    {
      "cell_type": "markdown",
      "metadata": {
        "id": "ePmzGMKmHSA0"
      },
      "source": [
        "### We can use coefficient and intercept to predict the score of the student by the simple formula.\n",
        "```\n",
        "y = m*x + c\n",
        "```\n"
      ]
    },
    {
      "cell_type": "code",
      "metadata": {
        "colab": {
          "base_uri": "https://localhost:8080/"
        },
        "id": "KZfQJCN4HA-F",
        "outputId": "8b6ee9a1-21a2-44f0-e9b6-9f192aef847f"
      },
      "source": [
        "# Coefficient of model\n",
        "model.coef_"
      ],
      "execution_count": 11,
      "outputs": [
        {
          "output_type": "execute_result",
          "data": {
            "text/plain": [
              "array([9.8579032])"
            ]
          },
          "metadata": {
            "tags": []
          },
          "execution_count": 11
        }
      ]
    },
    {
      "cell_type": "code",
      "metadata": {
        "colab": {
          "base_uri": "https://localhost:8080/"
        },
        "id": "_xFl2Di-HEq-",
        "outputId": "38054c24-5c6c-49ac-88b7-6ae52b24f198"
      },
      "source": [
        "# Intercept of model\n",
        "model.intercept_"
      ],
      "execution_count": 12,
      "outputs": [
        {
          "output_type": "execute_result",
          "data": {
            "text/plain": [
              "0.1790452682152619"
            ]
          },
          "metadata": {
            "tags": []
          },
          "execution_count": 12
        }
      ]
    },
    {
      "cell_type": "markdown",
      "metadata": {
        "id": "wn_yRIBUErUl"
      },
      "source": [
        "### Visualising the Training set results."
      ]
    },
    {
      "cell_type": "code",
      "metadata": {
        "colab": {
          "base_uri": "https://localhost:8080/",
          "height": 295
        },
        "id": "ZzQIdRBbEqQN",
        "outputId": "f32590c0-bf06-48bc-c426-28a2d556f245"
      },
      "source": [
        "plt.scatter(x_train, y_train, color = 'r')\n",
        "plt.plot(x_train, model.predict(x_train), color = 'g')\n",
        "plt.title('Student marks vs Study Hours (Training set)')\n",
        "plt.xlabel('Study Hours')\n",
        "plt.ylabel('Student marks')\n",
        "plt.show()"
      ],
      "execution_count": 13,
      "outputs": [
        {
          "output_type": "display_data",
          "data": {
            "image/png": "[encoded data removed]",
            "text/plain": [
              "<Figure size 432x288 with 1 Axes>"
            ]
          },
          "metadata": {
            "tags": [],
            "needs_background": "light"
          }
        }
      ]
    },
    {
      "cell_type": "markdown",
      "metadata": {
        "id": "ElSS2lVCFW_1"
      },
      "source": [
        "### Visualising the Test set results.\n"
      ]
    },
    {
      "cell_type": "code",
      "metadata": {
        "colab": {
          "base_uri": "https://localhost:8080/",
          "height": 295
        },
        "id": "E3KUwgkqFWp-",
        "outputId": "47c2f63f-5d35-4bb0-a624-2047623a1535"
      },
      "source": [
        "plt.scatter(x_test, y_test, color = 'r')\n",
        "plt.plot(x_train, model.predict(x_train), color = 'g')\n",
        "plt.title('Student marks vs Study Hours (Testing set)')\n",
        "plt.xlabel('Study Hours')\n",
        "plt.ylabel('Student marks')\n",
        "plt.show()"
      ],
      "execution_count": 14,
      "outputs": [
        {
          "output_type": "display_data",
          "data": {
            "image/png": "[encoded data removed]",
            "text/plain": [
              "<Figure size 432x288 with 1 Axes>"
            ]
          },
          "metadata": {
            "tags": [],
            "needs_background": "light"
          }
        }
      ]
    }
  ]
}