{
  "nbformat": 4,
  "nbformat_minor": 0,
  "metadata": {
    "colab": {
      "name": "PY_3.ipynb",
      "provenance": [],
      "collapsed_sections": [],
      "toc_visible": true,
      "mount_file_id": "1OMaY1MYRPq3AR2niO7_kqMaoONMAQtbA",
      "authorship_tag": "ABX9TyPkrsUPDrIHRT+uhpPUdGzC",
      "include_colab_link": true
    },
    "kernelspec": {
      "name": "python3",
      "display_name": "Python 3"
    },
    "language_info": {
      "name": "python"
    }
  },
  "cells": [
    {
      "cell_type": "markdown",
      "metadata": {
        "id": "view-in-github",
        "colab_type": "text"
      },
      "source": [
        "<a href=\"https://colab.research.google.com/github/chetan6780/ML-Training/blob/master/Assignments/PY_3.ipynb\" target=\"_parent\"><img src=\"https://colab.research.google.com/assets/colab-badge.svg\" alt=\"Open In Colab\"/></a>"
      ]
    },
    {
      "cell_type": "markdown",
      "metadata": {
        "id": "i1_FaNXBI_l9"
      },
      "source": [
        "\n",
        "##Q.1 Write a Python Program to sort (ascending and descending) a dictionary by value. \n",
        "\n"
      ]
    },
    {
      "cell_type": "code",
      "metadata": {
        "colab": {
          "base_uri": "https://localhost:8080/"
        },
        "id": "hhizyfOtRcaI",
        "outputId": "c0326aaa-7ac4-4d67-d476-48d3ae64f7bb"
      },
      "source": [
        "dict1 = {1: \"not\", 2: \"bot\", 3: \"got\", 4: \"give\", 5: \"take\"}\n",
        "dict2 = sorted(dict1.items(),key = lambda di:(di[1],di[0]))\n",
        "dict3 = sorted(dict1.items(),key = lambda di:(di[1],di[0]),reverse = True)\n",
        "\n",
        "print(\"Dictionary sorted in ascendig order of values: \")\n",
        "print(dict2)\n",
        "print(\"\\nDictionary sorted in descendig order of values: \")\n",
        "print(dict3)\n"
      ],
      "execution_count": 1,
      "outputs": [
        {
          "output_type": "stream",
          "text": [
            "Dictionary sorted in ascendig order of values: \n",
            "[(2, 'bot'), (4, 'give'), (3, 'got'), (1, 'not'), (5, 'take')]\n",
            "\n",
            "Dictionary sorted in descendig order of values: \n",
            "[(5, 'take'), (1, 'not'), (3, 'got'), (4, 'give'), (2, 'bot')]\n"
          ],
          "name": "stdout"
        }
      ]
    },
    {
      "cell_type": "markdown",
      "metadata": {
        "id": "Rgfn7_ywSuko"
      },
      "source": [
        "## Q.2 Write a Python Program to add a key to a dictionary. \n",
        "```py\n",
        "Sample Dictionary : {0: 10, 1: 20}\n",
        "Expected Result : {0: 10, 1: 20, 2: 30}\n",
        "```"
      ]
    },
    {
      "cell_type": "code",
      "metadata": {
        "colab": {
          "base_uri": "https://localhost:8080/"
        },
        "id": "9P2Ch12XTdmW",
        "outputId": "2e9d44f2-02bf-4303-f4d5-17870fcb4d3c"
      },
      "source": [
        "dict1 = {0:10, 1:20}\n",
        "dict1[2]=30\n",
        "print(dict1)"
      ],
      "execution_count": 2,
      "outputs": [
        {
          "output_type": "stream",
          "text": [
            "{0: 10, 1: 20, 2: 30}\n"
          ],
          "name": "stdout"
        }
      ]
    },
    {
      "cell_type": "markdown",
      "metadata": {
        "id": "QK6EHkiNUU3Q"
      },
      "source": [
        "\n",
        "## Q.3 Write a  program asks for City name and Temperature and builds a dictionary using that Later on you can input City name and it will tell you the Temperature of that City."
      ]
    },
    {
      "cell_type": "code",
      "metadata": {
        "colab": {
          "base_uri": "https://localhost:8080/"
        },
        "id": "IKzPx64XUWj4",
        "outputId": "3a909cac-650e-4360-c816-886aebc5560e"
      },
      "source": [
        "city_tempreture = {}\n",
        "n = int(input(\"How many cities you want to add: \"))\n",
        "for i in range(n):\n",
        "    city = input(\"Enter the city name: \")\n",
        "    tempreture = int(input(\"Enter the tempreture of city in celcious: \"))\n",
        "    city_tempreture[city] = tempreture\n",
        "\n",
        "query = input(\"\\nEnter the city name to know tempreture: \")\n",
        "print(f\"Tempreture of {query} is {city_tempreture[query]} celcious.\")\n"
      ],
      "execution_count": 3,
      "outputs": [
        {
          "output_type": "stream",
          "text": [
            "How many cities you want to add: 2\n",
            "Enter the city name: mumbai\n",
            "Enter the tempreture of city in celcious: 30\n",
            "Enter the city name: pune\n",
            "Enter the tempreture of city in celcious: 29\n",
            "\n",
            "Enter the city name to know tempreture: mumbai\n",
            "Tempreture of mumbai is 30 celcious.\n"
          ],
          "name": "stdout"
        }
      ]
    },
    {
      "cell_type": "markdown",
      "metadata": {
        "id": "tszJjSdCVsOW"
      },
      "source": [
        "## Q. 4 Write a Python program to convert list to list of dictionaries.\n",
        "```py\n",
        "Sample lists: [\"Black\", \"Red\", \"Maroon\", \"Yellow\"], [\"#000000\", \"#FF0000\", \"#800000\", \"#FFFF00\"]\n",
        "\n",
        "Expected Output: [{'color_name': 'Black', 'color_code': '#000000'}, {'color_name': 'Red', 'color_code': '#FF0000'}, {'color_name': 'Maroon', 'color_code': '#800000'}, {'color_name': 'Yellow', 'color_code': '#FFFF00'}]\n",
        "```"
      ]
    },
    {
      "cell_type": "code",
      "metadata": {
        "colab": {
          "base_uri": "https://localhost:8080/"
        },
        "id": "GAmFGxJkWXPm",
        "outputId": "a1159ca6-01ca-4387-b463-c82c2b4abd5d"
      },
      "source": [
        "l1 = [\"Black\", \"Red\", \"Maroon\", \"Yellow\"]\n",
        "l2 = [\"#000000\", \"#FF0000\", \"#800000\", \"#FFFF00\"]\n",
        "l3 = []\n",
        "for i in range(len(l1)):\n",
        "    d1 = {}\n",
        "    d1[\"color_name\"] = l1[i]\n",
        "    d1[\"color_code\"] = l2[i]\n",
        "    l3.append(d1)\n",
        "print(l3)"
      ],
      "execution_count": 4,
      "outputs": [
        {
          "output_type": "stream",
          "text": [
            "[{'color_name': 'Black', 'color_code': '#000000'}, {'color_name': 'Red', 'color_code': '#FF0000'}, {'color_name': 'Maroon', 'color_code': '#800000'}, {'color_name': 'Yellow', 'color_code': '#FFFF00'}]\n"
          ],
          "name": "stdout"
        }
      ]
    },
    {
      "cell_type": "markdown",
      "metadata": {
        "id": "UEA8QpwCZRvH"
      },
      "source": [
        "##Q. 5 We have following information on Employees and their Salary (Salary is in lakhs),\n",
        "|Employee|Salary| \n",
        "|-----|----|\n",
        "|John|14|\n",
        "|Smith|13|\n",
        "|Alice|32| \n",
        "|Daneil|21|\n",
        "\n",
        "1. Using above create a dictionary of Employees and their Salary\n",
        "2. Write a program that asks user for three type of inputs\n",
        "   - print: if user enter print then it should print all Employees with their Salary in this format,\n",
        "      1. John ==>14\n",
        "      2. Smith ==>13\n",
        "      3. Alice ==>32\n",
        "      4. Daneil ==>21\n",
        "  - add: if user input adds then it should further ask for an Employee name to add. If Employee already exists in our dataset then it should print that it exists and do nothing. If it doesn't then it asks for Salary and add that new Employee/Salary in our dictionary and print it\n",
        "  - remove: when user inputs remove it should ask for an Employee to remove. If an Employee exists in our dictionary then remove it and print a new dictionary using format shown above in (a). Else print that Employee doesn't exist!\n",
        "  - query: on this again ask the user for which Employee he or she wants to query. When a user inputs that Employee it will print the Salary of that Employee.\n"
      ]
    },
    {
      "cell_type": "code",
      "metadata": {
        "colab": {
          "base_uri": "https://localhost:8080/"
        },
        "id": "AAivql72azQ3",
        "outputId": "b6c04050-9af1-4b07-a92e-020bdd8fa233"
      },
      "source": [
        "\n",
        "employee = {\"John\": 14, \"Smith\": 13, \"Alice\": 32, \"Daneil\": 21}\n",
        "while True:\n",
        "    n = input(\"\\nEnter command:\\n- Print\\n- Add\\n- Remove\\n- Query\\n\").lower()\n",
        "    if n == \"print\":\n",
        "        for i in employee:\n",
        "            print(i, \"==>\", employee[i])\n",
        "    elif n == \"add\":\n",
        "        name = input(\"Enter the name of employee: \").capitalize()\n",
        "        if name in employee:\n",
        "            print(name, \"already exist!\")\n",
        "        else:\n",
        "            salary = int(input(\"Enter salary: \"))\n",
        "            employee[name]=salary\n",
        "            print(name, \"==>\", salary,\", added succesfully.\")\n",
        "    elif n == \"remove\":\n",
        "        name = input(\"Enter the name of employee: \").capitalize()\n",
        "        if name in employee:\n",
        "            del employee[name]\n",
        "            print(name, \"removed succesfully.\")\n",
        "            for i in employee:\n",
        "                print(i, \"==>\", employee[i])\n",
        "        else:\n",
        "            print(name, \"does not exist!\")\n",
        "    elif n == \"query\":\n",
        "        i = input(\"Enter the name of employee: \").capitalize()\n",
        "        print(i, \"==>\", employee[i])\n",
        "    else:\n",
        "        print(\"You have enterd wrong command!\")\n",
        "        break"
      ],
      "execution_count": 5,
      "outputs": [
        {
          "output_type": "stream",
          "text": [
            "\n",
            "Enter command:\n",
            "- Print\n",
            "- Add\n",
            "- Remove\n",
            "- Query\n",
            "print\n",
            "John ==> 14\n",
            "Smith ==> 13\n",
            "Alice ==> 32\n",
            "Daneil ==> 21\n",
            "\n",
            "Enter command:\n",
            "- Print\n",
            "- Add\n",
            "- Remove\n",
            "- Query\n",
            "add\n",
            "Enter the name of employee: chetan\n",
            "Enter salary: 66\n",
            "Chetan ==> 66 , added succesfully.\n",
            "\n",
            "Enter command:\n",
            "- Print\n",
            "- Add\n",
            "- Remove\n",
            "- Query\n",
            "remove\n",
            "Enter the name of employee: john\n",
            "John removed succesfully.\n",
            "Smith ==> 13\n",
            "Alice ==> 32\n",
            "Daneil ==> 21\n",
            "Chetan ==> 66\n",
            "\n",
            "Enter command:\n",
            "- Print\n",
            "- Add\n",
            "- Remove\n",
            "- Query\n",
            "query\n",
            "Enter the name of employee: smith\n",
            "Smith ==> 13\n",
            "\n",
            "Enter command:\n",
            "- Print\n",
            "- Add\n",
            "- Remove\n",
            "- Query\n",
            "exit\n",
            "You have enterd wrong command!\n"
          ],
          "name": "stdout"
        }
      ]
    },
    {
      "cell_type": "markdown",
      "metadata": {
        "id": "1fFn3wfEJNr1"
      },
      "source": [
        "# Questions on Sets\n"
      ]
    },
    {
      "cell_type": "markdown",
      "metadata": {
        "id": "aFwD8Birhku3"
      },
      "source": [
        "##Q.1 What is the difference between a set and a frozenset? Create any set and try to use frozenset(setname).\n",
        "Set is mutable i.e. we can change the items in the set while frozenset is immutable so we can't change anything.\n"
      ]
    },
    {
      "cell_type": "code",
      "metadata": {
        "colab": {
          "base_uri": "https://localhost:8080/"
        },
        "id": "SKN16-Dnh90j",
        "outputId": "e157b50e-0d75-4732-bc92-26af60f6d50c"
      },
      "source": [
        "st = {1, 2, 3, 4, 5, 6}\n",
        "fset = frozenset(st)\n",
        "print(type(fset))\n"
      ],
      "execution_count": 6,
      "outputs": [
        {
          "output_type": "stream",
          "text": [
            "<class 'frozenset'>\n"
          ],
          "name": "stdout"
        }
      ]
    },
    {
      "cell_type": "markdown",
      "metadata": {
        "id": "CzHo4oRYhpZU"
      },
      "source": [
        "## Q.2 Find the elements in a given set that are not in another set\n",
        "\n",
        "    set1 = {10,20,30,40,50}\n",
        "\n",
        "    set2 = {40,50,60,70,80}\n",
        "\n",
        " Difference between set1 and set2 is {10,20,30}"
      ]
    },
    {
      "cell_type": "code",
      "metadata": {
        "colab": {
          "base_uri": "https://localhost:8080/"
        },
        "id": "aL-rb5T2I7R9",
        "outputId": "e4c2534d-9295-4f41-acec-c50f5809916a"
      },
      "source": [
        "set1 = {10, 20, 30, 40, 50}\n",
        "set2 = {40, 50, 60, 70, 80}\n",
        "print(set1.difference(set2))\n"
      ],
      "execution_count": 7,
      "outputs": [
        {
          "output_type": "stream",
          "text": [
            "{10, 20, 30}\n"
          ],
          "name": "stdout"
        }
      ]
    }
  ]
}