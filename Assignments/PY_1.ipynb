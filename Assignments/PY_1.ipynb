{
  "nbformat": 4,
  "nbformat_minor": 0,
  "metadata": {
    "colab": {
      "name": "PY_1.ipynb",
      "provenance": [],
      "collapsed_sections": [],
      "authorship_tag": "ABX9TyNQr9h55U2sboZw6iLT+xWo",
      "include_colab_link": true
    },
    "kernelspec": {
      "name": "python3",
      "display_name": "Python 3"
    },
    "language_info": {
      "name": "python"
    }
  },
  "cells": [
    {
      "cell_type": "markdown",
      "metadata": {
        "id": "view-in-github",
        "colab_type": "text"
      },
      "source": [
        "<a href=\"https://colab.research.google.com/github/chetan6780/ML-Training/blob/master/Assignments/PY_1.ipynb\" target=\"_parent\"><img src=\"https://colab.research.google.com/assets/colab-badge.svg\" alt=\"Open In Colab\"/></a>"
      ]
    },
    {
      "cell_type": "markdown",
      "metadata": {
        "id": "0piaBjyL3Zsg"
      },
      "source": [
        "## Q1. We are having 3 list like this\n"
      ]
    },
    {
      "cell_type": "code",
      "metadata": {
        "cellView": "code",
        "id": "gTdpXZAF3nqR"
      },
      "source": [
        "Colors = ['Yellow', 'Green', 'White', 'Black']\n",
        "Fruits = ['Apple', 'Papaya', 'Mango', 'Orange']\n",
        "Animals = ['Tiger', 'Lion', 'Deer', 'Zebra']"
      ],
      "execution_count": 13,
      "outputs": []
    },
    {
      "cell_type": "markdown",
      "metadata": {
        "id": "xqPgRege3rbB"
      },
      "source": [
        "i. Write a program that asks user to enter a Color/Fruit/Animal name and it should tell which category belongs to , like its is a fruit or color or Animal\n"
      ]
    },
    {
      "cell_type": "code",
      "metadata": {
        "colab": {
          "base_uri": "https://localhost:8080/"
        },
        "id": "RWqRwyg93XAQ",
        "outputId": "405de04a-f085-478e-a294-c4f9aff59a2d"
      },
      "source": [
        "name = input(\"Enter Color/Fruit/Animal name: \")\n",
        "if name in Colors:\n",
        "    print(f'{name} belongs to Colors catagory.')\n",
        "elif name in Fruits:\n",
        "    print(f'{name} belongs to Fruits catagory.')\n",
        "elif name in Animals:\n",
        "    print(f'{name} belongs to Animals catagory.')\n",
        "else:\n",
        "    print(f'{name} does not belong to any given categories.')"
      ],
      "execution_count": 14,
      "outputs": [
        {
          "output_type": "stream",
          "text": [
            "Enter Color/Fruit/Animal name: Green\n",
            "Green belongs to Colors catagory.\n"
          ],
          "name": "stdout"
        }
      ]
    },
    {
      "cell_type": "markdown",
      "metadata": {
        "id": "cPhDXnvx4pSB"
      },
      "source": [
        "ii. Write a program that asks user to enter two items and it tells you if they both are in same category or not. For example if I enter yellow and Black, it will print \"Both are colors\" but if I enter yellow and Tiger it should print \"They don't belong to same category\"\n"
      ]
    },
    {
      "cell_type": "code",
      "metadata": {
        "colab": {
          "base_uri": "https://localhost:8080/"
        },
        "id": "MYBL0GiV4rmO",
        "outputId": "54092899-93a8-4999-c886-370c8c6786dd"
      },
      "source": [
        "item_1 = input(\"Enter first item: \")\n",
        "item_2 = input(\"Enter second item: \")\n",
        "\n",
        "if item_1 in Colors and item_2 in Colors:\n",
        "    print('Both are colors.')\n",
        "elif item_1 in Fruits and item_2 in Fruits:\n",
        "    print('Both are Fruits.')\n",
        "elif item_1 in Animals and item_2 in Animals:\n",
        "    print('Both are Animals.')\n",
        "else:\n",
        "    print('Both belongs to different categories.')"
      ],
      "execution_count": 15,
      "outputs": [
        {
          "output_type": "stream",
          "text": [
            "Enter first item: Green\n",
            "Enter second item: White\n",
            "Both are colors.\n"
          ],
          "name": "stdout"
        }
      ]
    },
    {
      "cell_type": "markdown",
      "metadata": {
        "id": "LIQ4jxDh46a5"
      },
      "source": [
        "## Q2.  Write a python program that can tell you if your grade score good or not . Normal Score range is 40 to 60.\n",
        "i. Ask user to enter his score. <br/>\n",
        "ii. If it is below 40 to 60 range then print that score is low <br />\n",
        "iii. If it is above 60 then print that it is good otherwise print that it is normal"
      ]
    },
    {
      "cell_type": "code",
      "metadata": {
        "colab": {
          "base_uri": "https://localhost:8080/"
        },
        "id": "qusweFOB41Be",
        "outputId": "e329c163-913b-4a6e-cfe7-99f0a4a2e8ae"
      },
      "source": [
        "marks = int(input(\"Enter your score: \"))\n",
        "if marks < 40:\n",
        "    print('Score is low.')\n",
        "elif marks > 60:\n",
        "    print('Score is good.')\n",
        "else:\n",
        "    print('Score is normal.')\n"
      ],
      "execution_count": 16,
      "outputs": [
        {
          "output_type": "stream",
          "text": [
            "Enter your score: 45\n",
            "Score is normal.\n"
          ],
          "name": "stdout"
        }
      ]
    },
    {
      "cell_type": "markdown",
      "metadata": {
        "id": "vFZjmhqv5X7L"
      },
      "source": [
        "##Q3. After appearing in exam 10 times you got this result,\n",
        "```\n",
        "result = [\"Pass\",\"Fail\",\"Fail\",\"Pass\",\"Fail\",\"Pass\",\"Pass\",\"Fail\",\"Fail\",\"Fail\"]\n",
        "```\n",
        "Using for loop figure out how many times you got Pass"
      ]
    },
    {
      "cell_type": "code",
      "metadata": {
        "colab": {
          "base_uri": "https://localhost:8080/"
        },
        "id": "ZQfKFmEw5Vim",
        "outputId": "184034b3-526e-4a53-cdf1-3a34490f665b"
      },
      "source": [
        "result = [\"Pass\", \"Fail\", \"Fail\", \"Pass\", \"Fail\",\n",
        "          \"Pass\", \"Pass\", \"Fail\", \"Fail\", \"Fail\"]\n",
        "cnt = 0\n",
        "for i in result:\n",
        "    if i==\"Pass\":\n",
        "        cnt += 1\n",
        "print(\"We got Pass\", cnt, \"times.\")"
      ],
      "execution_count": 17,
      "outputs": [
        {
          "output_type": "stream",
          "text": [
            "We got Pass 4 times.\n"
          ],
          "name": "stdout"
        }
      ]
    },
    {
      "cell_type": "markdown",
      "metadata": {
        "id": "RNOKhf_q6Nns"
      },
      "source": [
        "## Q4.  Write a program that prints following shape\n",
        "\\*<br/>\n",
        "\\* *<br/>\n",
        "\\* * *<br/>\n",
        "\\* * * *<br/>\n",
        "\\* * * * *<br/>\n",
        "\\* * * *<br/>\n",
        "\\* * *<br/>\n",
        "\\* *<br/>\n",
        "\\*<br/>\n"
      ]
    },
    {
      "cell_type": "code",
      "metadata": {
        "colab": {
          "base_uri": "https://localhost:8080/"
        },
        "id": "Ul4EiNNZ6KAe",
        "outputId": "b1a00fff-79dd-49b2-d02f-91f856d1a2d5"
      },
      "source": [
        "n = int(input(\"Enter the number: \"))\n",
        "for i in range(2*n-1):\n",
        "    if i < n:\n",
        "        print(\"* \"*(i+1))\n",
        "    else:\n",
        "        print(\"* \"*((2*n)-(i+1)))"
      ],
      "execution_count": 18,
      "outputs": [
        {
          "output_type": "stream",
          "text": [
            "Enter the number: 5\n",
            "* \n",
            "* * \n",
            "* * * \n",
            "* * * * \n",
            "* * * * * \n",
            "* * * * \n",
            "* * * \n",
            "* * \n",
            "* \n"
          ],
          "name": "stdout"
        }
      ]
    },
    {
      "cell_type": "markdown",
      "metadata": {
        "id": "nhQk3tMm6tdq"
      },
      "source": [
        "##Q5.   Lets say you are running a 50 km race. Write a program that,\n",
        "Upon completing each 10 km asks you \"are you tired?\"<br />\n",
        "If you reply \"yes\" then it should break and print \"you didn't finish the race\"<br />\n",
        "If you reply \"no\" then it should continue and ask \"are you tired\" on every km<br />\n",
        "If you finish all 50 km then it should print congratulations message<br />"
      ]
    },
    {
      "cell_type": "code",
      "metadata": {
        "colab": {
          "base_uri": "https://localhost:8080/"
        },
        "id": "G2cAEQZw6pKU",
        "outputId": "6bc134ad-31c5-4a96-a7ca-5802980b41bb"
      },
      "source": [
        "for i in range(1, 51):\n",
        "    if i == 10:\n",
        "        ans = input(\"Are you tired? \").lower()\n",
        "        if ans == \"yes\":\n",
        "            print(\"you didn't finish the race\")\n",
        "            break\n",
        "        else:\n",
        "            continue\n",
        "    if i > 10:\n",
        "        ans = input(\"Are you tired? \").lower()\n",
        "        if ans == \"yes\":\n",
        "            print(\"you didn't finish the race\")\n",
        "            break\n",
        "        else:\n",
        "            continue\n",
        "    if i == 50:\n",
        "        print(\"Congratulations! You have finished the race.\")\n"
      ],
      "execution_count": 19,
      "outputs": [
        {
          "output_type": "stream",
          "text": [
            "Are you tired? yes\n",
            "you didn't finish the race\n"
          ],
          "name": "stdout"
        }
      ]
    },
    {
      "cell_type": "markdown",
      "metadata": {
        "id": "tD70V8zp7aiy"
      },
      "source": [
        "##Q6.  Write a Python program to find those numbers which are divisible by 7 and multiple of 5, between 1500 and 2700 (both included).\n"
      ]
    },
    {
      "cell_type": "code",
      "metadata": {
        "colab": {
          "base_uri": "https://localhost:8080/"
        },
        "id": "B_pZR-EP7Vdd",
        "outputId": "0b4a0130-6bba-442b-e7bd-f072ae35ae9f"
      },
      "source": [
        "for i in range(1500, 2701):\n",
        "    if i % 7 == 0 and i % 5 == 0:\n",
        "        print(i, end=\" \")"
      ],
      "execution_count": 20,
      "outputs": [
        {
          "output_type": "stream",
          "text": [
            "1505 1540 1575 1610 1645 1680 1715 1750 1785 1820 1855 1890 1925 1960 1995 2030 2065 2100 2135 2170 2205 2240 2275 2310 2345 2380 2415 2450 2485 2520 2555 2590 2625 2660 2695 "
          ],
          "name": "stdout"
        }
      ]
    },
    {
      "cell_type": "markdown",
      "metadata": {
        "id": "B3JYrYHd7hCy"
      },
      "source": [
        "## Q7.   Print square of all numbers between 10 to 20 except even numbers\n"
      ]
    },
    {
      "cell_type": "code",
      "metadata": {
        "colab": {
          "base_uri": "https://localhost:8080/"
        },
        "id": "VwVNVwNr7fvS",
        "outputId": "a32d116c-9282-4263-b595-4a373dec8b01"
      },
      "source": [
        "for i in range(10, 21):\n",
        "    if i % 2 != 0:\n",
        "        print(i*i, end=\" \")"
      ],
      "execution_count": 21,
      "outputs": [
        {
          "output_type": "stream",
          "text": [
            "121 169 225 289 361 "
          ],
          "name": "stdout"
        }
      ]
    },
    {
      "cell_type": "markdown",
      "metadata": {
        "id": "I5tHWhDD7rIq"
      },
      "source": [
        "## Q8.  Your Marks for five Test(test1 to test5) looks like this,\n",
        "```marks_list = [65, 75, 2100, 95, 83]```\n",
        "<br/> Write a program that asks you to enter marks and program should tell you in which test that marks occurred. If marks is not found then it should print that as well."
      ]
    },
    {
      "cell_type": "code",
      "metadata": {
        "colab": {
          "base_uri": "https://localhost:8080/"
        },
        "id": "CmIyTwa97o4Z",
        "outputId": "740e5f1a-5396-4d64-b83b-d2c80d3742cd"
      },
      "source": [
        "marks_list = [65, 75, 2100, 95, 83]\n",
        "query = int(input(\"Enter marks: \"))\n",
        "for i in range(len(marks_list)):\n",
        "    if query == marks_list[i]:\n",
        "        print(f\"You got {query} marks in test number {i+1}.\")"
      ],
      "execution_count": 22,
      "outputs": [
        {
          "output_type": "stream",
          "text": [
            "Enter marks: 75\n",
            "You got 75 marks in test number 2.\n"
          ],
          "name": "stdout"
        }
      ]
    }
  ]
}