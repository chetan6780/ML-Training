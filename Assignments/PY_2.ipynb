{
  "nbformat": 4,
  "nbformat_minor": 0,
  "metadata": {
    "colab": {
      "name": "PY_2.ipynb",
      "provenance": [],
      "collapsed_sections": [],
      "mount_file_id": "1qW-mS9vyU-MqDXZMh9LO8A5anW7lQIiv",
      "authorship_tag": "ABX9TyOrNxdGxcjfAas8z6HeS63I",
      "include_colab_link": true
    },
    "kernelspec": {
      "name": "python3",
      "display_name": "Python 3"
    },
    "language_info": {
      "name": "python"
    }
  },
  "cells": [
    {
      "cell_type": "markdown",
      "metadata": {
        "id": "view-in-github",
        "colab_type": "text"
      },
      "source": [
        "<a href=\"https://colab.research.google.com/github/chetan6780/ML-Training/blob/master/Assignments/PY_2.ipynb\" target=\"_parent\"><img src=\"https://colab.research.google.com/assets/colab-badge.svg\" alt=\"Open In Colab\"/></a>"
      ]
    },
    {
      "cell_type": "markdown",
      "metadata": {
        "id": "0ca-na_RghP_"
      },
      "source": [
        "\n",
        "## 1. Is a list mutable? \n",
        "Yes, list is mutable i.e. we can change items in side the list.\n"
      ]
    },
    {
      "cell_type": "markdown",
      "metadata": {
        "id": "Ltaj-u9SmqP-"
      },
      "source": [
        "## 2. Does a list need to be homogeneous?\n",
        "No, list can be heterogeneous also.\n"
      ]
    },
    {
      "cell_type": "markdown",
      "metadata": {
        "id": "3Jl7TElWm57H"
      },
      "source": [
        "## 3. What is the difference between a list and a tuple.\n",
        "Lists are mutable while tuples are immutable, which signies that we can change the content of\n",
        "a list dynamically, but this is not the case in a tuple. When the iterations are applied to the list\n",
        "objects, the processing time is more. On the contrary, tuple objects iterate in a fast manner. Tuple\n",
        "data type is appropriate for accessing the elements. As against, the list is better for performing\n",
        "operations, such as insertion and deletion. If the user wants to utilize the sequence as a dictionary\n",
        "key, a tuple is a better choice because dictionary keys are immutable. Lists consume more memory\n",
        "as compared to the tuple. In the list, the unexpected changes and errors are more likely to occur, but\n",
        "in the case of a tuple, it is hard to take place. Lists have several built-in methods while tuple does no\n",
        "have must built-in methods.\n"
      ]
    },
    {
      "cell_type": "markdown",
      "metadata": {
        "id": "_oHE_x1jm9Lo"
      },
      "source": [
        "\n",
        "## 4. How to find the number of elements in the list?\n",
        "We can use len(list) to find the number of elemens in the list.\n"
      ]
    },
    {
      "cell_type": "markdown",
      "metadata": {
        "id": "UOKpPSDJn2lA"
      },
      "source": [
        "\n",
        "## 5. How to check whether the list is empty or not?\n",
        "Using len() function we can determine if the list is empty or not."
      ]
    },
    {
      "cell_type": "code",
      "metadata": {
        "colab": {
          "base_uri": "https://localhost:8080/"
        },
        "id": "jw4kb8dspIse",
        "outputId": "fe02dd95-003d-4cfd-9a0a-9ca781b7cead"
      },
      "source": [
        "def is_empty(listT):\n",
        "  if len(listT)==0:\n",
        "    print(\"List is empty.\")\n",
        "  else:\n",
        "    print(\"List is not empty.\")\n",
        "\n",
        "list1=[1,2,3,4,5]\n",
        "list2=[]\n",
        "is_empty(list1)\n",
        "is_empty(list2)\n"
      ],
      "execution_count": 1,
      "outputs": [
        {
          "output_type": "stream",
          "text": [
            "List is not empty.\n",
            "List is empty.\n"
          ],
          "name": "stdout"
        }
      ]
    },
    {
      "cell_type": "markdown",
      "metadata": {
        "id": "fINk4RQfn6Uu"
      },
      "source": [
        "## 6. How to find the first and last element of the list?\n",
        "To find first index we will write list[0] and to find last value we can write list[-1]"
      ]
    },
    {
      "cell_type": "code",
      "metadata": {
        "colab": {
          "base_uri": "https://localhost:8080/"
        },
        "id": "Ix1zNqTFqhXH",
        "outputId": "708a5efe-63aa-4f8c-996d-08f72bb93158"
      },
      "source": [
        "print(\"First element of the list is\",list1[0])\n",
        "print(\"Last element of the list is\",list1[-1])"
      ],
      "execution_count": 4,
      "outputs": [
        {
          "output_type": "stream",
          "text": [
            "First element of the list is 1\n",
            "Last element of the list is 6\n"
          ],
          "name": "stdout"
        }
      ]
    },
    {
      "cell_type": "markdown",
      "metadata": {
        "id": "UYxUcIgcn8We"
      },
      "source": [
        "## 7. How to find the largest and lowest value in the list?\n",
        "By using inbuilt max() and min() functions we can find largest and lowest value in the list."
      ]
    },
    {
      "cell_type": "code",
      "metadata": {
        "colab": {
          "base_uri": "https://localhost:8080/"
        },
        "id": "11As5QAiq85v",
        "outputId": "4e9755f4-24f5-4cd7-e9f0-25152991e5dd"
      },
      "source": [
        "print(\"Largest element of the list is\",max(list1))\n",
        "print(\"lowest element of the list is\",min(list1))\n"
      ],
      "execution_count": 3,
      "outputs": [
        {
          "output_type": "stream",
          "text": [
            "Largest element of the list is 6\n",
            "lowest element of the list is 1\n"
          ],
          "name": "stdout"
        }
      ]
    },
    {
      "cell_type": "markdown",
      "metadata": {
        "id": "M0pBJNL-n-ne"
      },
      "source": [
        "## 8. How to access elements of the list?\n",
        "We can access  elements of the list by indexing."
      ]
    },
    {
      "cell_type": "code",
      "metadata": {
        "colab": {
          "base_uri": "https://localhost:8080/"
        },
        "id": "4J81WOKNrYiw",
        "outputId": "93543172-cbb5-4547-ae06-6492f6c30e31"
      },
      "source": [
        "for i in range(len(list1)):\n",
        "  print(f'list1[{i}]: {list1[i]}')"
      ],
      "execution_count": 11,
      "outputs": [
        {
          "output_type": "stream",
          "text": [
            "list1[0]: 6\n"
          ],
          "name": "stdout"
        }
      ]
    },
    {
      "cell_type": "markdown",
      "metadata": {
        "id": "6aKGCD_RoANG"
      },
      "source": [
        "## 9. Remove elements in a list before a specific index\n"
      ]
    },
    {
      "cell_type": "code",
      "metadata": {
        "colab": {
          "base_uri": "https://localhost:8080/"
        },
        "id": "6aIePIUpsFHd",
        "outputId": "ebed1813-71fa-40f1-ee18-5a9c8ab68170"
      },
      "source": [
        "list1=[1,2,3,4,5,6]\n",
        "rem=int(input(\"Enter the index before which you want to remove elements from the list: \"))\n",
        "for i in range(len(list1)):\n",
        "  if i<rem:\n",
        "    list1.remove(list1[0])\n",
        "print(*list1)"
      ],
      "execution_count": 15,
      "outputs": [
        {
          "output_type": "stream",
          "text": [
            "Enter the index before which you want to remove elements from the list: 2\n",
            "3 4 5 6\n"
          ],
          "name": "stdout"
        }
      ]
    },
    {
      "cell_type": "markdown",
      "metadata": {
        "id": "NRYvNco2oBxW"
      },
      "source": [
        "## 10. Remove elements in a list between 2 indices\n"
      ]
    },
    {
      "cell_type": "markdown",
      "metadata": {
        "id": "dhWIPUkXoDrV"
      },
      "source": [
        "## 11. Return every 2nd element in a list between 2 indices\n"
      ]
    },
    {
      "cell_type": "markdown",
      "metadata": {
        "id": "KVAu4qL4oIqP"
      },
      "source": [
        "## 12. Get the first element from each nested list in a list\n"
      ]
    },
    {
      "cell_type": "markdown",
      "metadata": {
        "id": "eCxkGegaoKDn"
      },
      "source": [
        "## 13. How to modify elements of the list?\n"
      ]
    },
    {
      "cell_type": "markdown",
      "metadata": {
        "id": "tFYxzS-JoLh9"
      },
      "source": [
        "## 14. How to concatenate two lists?\n"
      ]
    },
    {
      "cell_type": "markdown",
      "metadata": {
        "id": "VkgN2vo4oM4A"
      },
      "source": [
        "## 15. How to add two lists element-wise in python?\n"
      ]
    },
    {
      "cell_type": "markdown",
      "metadata": {
        "id": "HScYOz6aoOeG"
      },
      "source": [
        "## 16. Difference between del and clear?\n"
      ]
    },
    {
      "cell_type": "markdown",
      "metadata": {
        "id": "EZ8veC9hoQgf"
      },
      "source": [
        "## 17. Difference between remove and pop?\n"
      ]
    },
    {
      "cell_type": "markdown",
      "metadata": {
        "id": "3iKmIqoIoSIn"
      },
      "source": [
        "## 18. Difference between append and extend?\n"
      ]
    },
    {
      "cell_type": "markdown",
      "metadata": {
        "id": "TaSbzTmmoTaW"
      },
      "source": [
        "## 19. Difference between indexing and Slicing?\n"
      ]
    },
    {
      "cell_type": "markdown",
      "metadata": {
        "id": "XKASSkZMoU2G"
      },
      "source": [
        "## 20. Difference between sort and sorted?\n"
      ]
    },
    {
      "cell_type": "markdown",
      "metadata": {
        "id": "_hGaMA-xoW8-"
      },
      "source": [
        "## 21. Difference between reverse and reversed?\n"
      ]
    },
    {
      "cell_type": "markdown",
      "metadata": {
        "id": "wm01s0HeoYgm"
      },
      "source": [
        "## 22. Difference between copy and deepcopy?\n"
      ]
    },
    {
      "cell_type": "markdown",
      "metadata": {
        "id": "ux4Offp5oazG"
      },
      "source": [
        "## 23. How to remove duplicate elements in the list?\n"
      ]
    },
    {
      "cell_type": "markdown",
      "metadata": {
        "id": "pY1cvfI4ocU-"
      },
      "source": [
        "## 24. How to find an index of an element in the python list?\n"
      ]
    },
    {
      "cell_type": "markdown",
      "metadata": {
        "id": "v1WYERlsoeae"
      },
      "source": [
        "## 25. How to find the occurrences of an element in the python list?\n"
      ]
    },
    {
      "cell_type": "markdown",
      "metadata": {
        "id": "rKruetuIofsu"
      },
      "source": [
        "## 26. How to insert an item at a given position?\n"
      ]
    },
    {
      "cell_type": "markdown",
      "metadata": {
        "id": "wiN9i5yXog-W"
      },
      "source": [
        "## 27. How to check if an item is in the list?\n"
      ]
    },
    {
      "cell_type": "markdown",
      "metadata": {
        "id": "Ac-xcP2HoiW-"
      },
      "source": [
        "## 28. How to flatten a list in python?\n"
      ]
    },
    {
      "cell_type": "markdown",
      "metadata": {
        "id": "cmGoKafdojsG"
      },
      "source": [
        "## 29. How to convert python list to other data structures like set, tuple, dictionary?\n"
      ]
    },
    {
      "cell_type": "markdown",
      "metadata": {
        "id": "HRt-FugNolAO"
      },
      "source": [
        "## 30. How to apply a function to all items in the list?\n"
      ]
    },
    {
      "cell_type": "markdown",
      "metadata": {
        "id": "RB1wzSkWomqG"
      },
      "source": [
        "## 31. How to filter the elements based on a function in a python list?"
      ]
    },
    {
      "cell_type": "markdown",
      "metadata": {
        "id": "FGOXK3zXon9-"
      },
      "source": [
        "## 32. How python lists are stored in memory?\n"
      ]
    }
  ]
}