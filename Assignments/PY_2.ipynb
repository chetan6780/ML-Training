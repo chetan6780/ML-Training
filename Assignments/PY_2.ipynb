{
  "nbformat": 4,
  "nbformat_minor": 0,
  "metadata": {
    "colab": {
      "name": "PY_2.ipynb",
      "provenance": [],
      "collapsed_sections": [],
      "mount_file_id": "1qW-mS9vyU-MqDXZMh9LO8A5anW7lQIiv",
      "authorship_tag": "ABX9TyOHlW3cEkRrUG/G0K8s1CEN",
      "include_colab_link": true
    },
    "kernelspec": {
      "name": "python3",
      "display_name": "Python 3"
    },
    "language_info": {
      "name": "python"
    }
  },
  "cells": [
    {
      "cell_type": "markdown",
      "metadata": {
        "id": "view-in-github",
        "colab_type": "text"
      },
      "source": [
        "<a href=\"https://colab.research.google.com/github/chetan6780/ML-Training/blob/master/Assignments/PY_2.ipynb\" target=\"_parent\"><img src=\"https://colab.research.google.com/assets/colab-badge.svg\" alt=\"Open In Colab\"/></a>"
      ]
    },
    {
      "cell_type": "markdown",
      "metadata": {
        "id": "0ca-na_RghP_"
      },
      "source": [
        "\n",
        "## 1. Is a list mutable? \n",
        "Yes, list is mutable i.e. we can change items in side the list.\n"
      ]
    },
    {
      "cell_type": "markdown",
      "metadata": {
        "id": "Ltaj-u9SmqP-"
      },
      "source": [
        "## 2. Does a list need to be homogeneous?\n",
        "No, list can be heterogeneous also.\n"
      ]
    },
    {
      "cell_type": "markdown",
      "metadata": {
        "id": "3Jl7TElWm57H"
      },
      "source": [
        "## 3. What is the difference between a list and a tuple.\n",
        "Lists are mutable while tuples are immutable, which signies that we can change the content of\n",
        "a list dynamically, but this is not the case in a tuple. When the iterations are applied to the list\n",
        "objects, the processing time is more. On the contrary, tuple objects iterate in a fast manner. Tuple\n",
        "data type is appropriate for accessing the elements. As against, the list is better for performing\n",
        "operations, such as insertion and deletion. If the user wants to utilize the sequence as a dictionary\n",
        "key, a tuple is a better choice because dictionary keys are immutable. Lists consume more memory\n",
        "as compared to the tuple. In the list, the unexpected changes and errors are more likely to occur, but\n",
        "in the case of a tuple, it is hard to take place. Lists have several built-in methods while tuple does no\n",
        "have must built-in methods.\n"
      ]
    },
    {
      "cell_type": "markdown",
      "metadata": {
        "id": "_oHE_x1jm9Lo"
      },
      "source": [
        "\n",
        "## 4. How to find the number of elements in the list?\n",
        "We can use len(list) to find the number of elemens in the list.\n"
      ]
    },
    {
      "cell_type": "markdown",
      "metadata": {
        "id": "UOKpPSDJn2lA"
      },
      "source": [
        "\n",
        "## 5. How to check whether the list is empty or not?\n",
        "Using len() function we can determine if the list is empty or not."
      ]
    },
    {
      "cell_type": "code",
      "metadata": {
        "colab": {
          "base_uri": "https://localhost:8080/"
        },
        "id": "jw4kb8dspIse",
        "outputId": "d4b739c5-f4d2-4714-ae72-6972aec25449"
      },
      "source": [
        "def is_empty(listT):\n",
        "  if len(listT)==0:\n",
        "    print(\"List is empty.\")\n",
        "  else:\n",
        "    print(\"List is not empty.\")\n",
        "\n",
        "list1=[1,2,3,4,5]\n",
        "list2=[]\n",
        "is_empty(list1)\n",
        "is_empty(list2)\n"
      ],
      "execution_count": 1,
      "outputs": [
        {
          "output_type": "stream",
          "text": [
            "List is not empty.\n",
            "List is empty.\n"
          ],
          "name": "stdout"
        }
      ]
    },
    {
      "cell_type": "markdown",
      "metadata": {
        "id": "fINk4RQfn6Uu"
      },
      "source": [
        "## 6. How to find the first and last element of the list?\n",
        "To find first index we will write list[0] and to find last value we can write list[-1]"
      ]
    },
    {
      "cell_type": "code",
      "metadata": {
        "colab": {
          "base_uri": "https://localhost:8080/"
        },
        "id": "Ix1zNqTFqhXH",
        "outputId": "d13ba041-ea73-495b-f51c-4159a22af93f"
      },
      "source": [
        "print(\"First element of the list is\",list1[0])\n",
        "print(\"Last element of the list is\",list1[-1])"
      ],
      "execution_count": 2,
      "outputs": [
        {
          "output_type": "stream",
          "text": [
            "First element of the list is 1\n",
            "Last element of the list is 5\n"
          ],
          "name": "stdout"
        }
      ]
    },
    {
      "cell_type": "markdown",
      "metadata": {
        "id": "UYxUcIgcn8We"
      },
      "source": [
        "## 7. How to find the largest and lowest value in the list?\n",
        "By using inbuilt max() and min() functions we can find largest and lowest value in the list."
      ]
    },
    {
      "cell_type": "code",
      "metadata": {
        "colab": {
          "base_uri": "https://localhost:8080/"
        },
        "id": "11As5QAiq85v",
        "outputId": "7a3d13b4-07f3-42bf-81e5-4c0fa5f9d492"
      },
      "source": [
        "print(\"Largest element of the list is\",max(list1))\n",
        "print(\"lowest element of the list is\",min(list1))\n"
      ],
      "execution_count": 3,
      "outputs": [
        {
          "output_type": "stream",
          "text": [
            "Largest element of the list is 5\n",
            "lowest element of the list is 1\n"
          ],
          "name": "stdout"
        }
      ]
    },
    {
      "cell_type": "markdown",
      "metadata": {
        "id": "M0pBJNL-n-ne"
      },
      "source": [
        "## 8. How to access elements of the list?\n",
        "We can access  elements of the list by indexing."
      ]
    },
    {
      "cell_type": "code",
      "metadata": {
        "colab": {
          "base_uri": "https://localhost:8080/"
        },
        "id": "4J81WOKNrYiw",
        "outputId": "6303d960-93fd-450c-ee49-60d074a3325c"
      },
      "source": [
        "for i in range(len(list1)):\n",
        "  print(f'list1[{i}]: {list1[i]}')"
      ],
      "execution_count": 4,
      "outputs": [
        {
          "output_type": "stream",
          "text": [
            "list1[0]: 1\n",
            "list1[1]: 2\n",
            "list1[2]: 3\n",
            "list1[3]: 4\n",
            "list1[4]: 5\n"
          ],
          "name": "stdout"
        }
      ]
    },
    {
      "cell_type": "markdown",
      "metadata": {
        "id": "6aKGCD_RoANG"
      },
      "source": [
        "## 9. Remove elements in a list before a specific index\n"
      ]
    },
    {
      "cell_type": "code",
      "metadata": {
        "colab": {
          "base_uri": "https://localhost:8080/"
        },
        "id": "6aIePIUpsFHd",
        "outputId": "5c04defc-80e4-4a28-88f7-e0598db39560"
      },
      "source": [
        "list1=[1,2,3,4,5,6]\n",
        "rem=int(input(\"Enter the index before which you want to remove elements from the list: \"))\n",
        "for i in range(len(list1)):\n",
        "  if i<rem:\n",
        "    list1.remove(list1[0])\n",
        "print(*list1)"
      ],
      "execution_count": 5,
      "outputs": [
        {
          "output_type": "stream",
          "text": [
            "Enter the index before which you want to remove elements from the list: 2\n",
            "3 4 5 6\n"
          ],
          "name": "stdout"
        }
      ]
    },
    {
      "cell_type": "markdown",
      "metadata": {
        "id": "NRYvNco2oBxW"
      },
      "source": [
        "## 10. Remove elements in a list between 2 indices\n"
      ]
    },
    {
      "cell_type": "code",
      "metadata": {
        "colab": {
          "base_uri": "https://localhost:8080/"
        },
        "id": "Wifay4d8uFKX",
        "outputId": "c1de3524-0c8d-4387-c87e-19d34fc364a4"
      },
      "source": [
        "list1=[1,2,3,4,5,6,7,8,9]\n",
        "a=int(input(\"Enter the first index: \"))\n",
        "b=int(input(\"Enter the second index: \"))\n",
        "del list1[a:b]\n",
        "print(list1)\n"
      ],
      "execution_count": 6,
      "outputs": [
        {
          "output_type": "stream",
          "text": [
            "Enter the first index: 2\n",
            "Enter the second index: 7\n",
            "[1, 2, 8, 9]\n"
          ],
          "name": "stdout"
        }
      ]
    },
    {
      "cell_type": "markdown",
      "metadata": {
        "id": "dhWIPUkXoDrV"
      },
      "source": [
        "## 11. Return every 2nd element in a list between 2 indices\n"
      ]
    },
    {
      "cell_type": "code",
      "metadata": {
        "colab": {
          "base_uri": "https://localhost:8080/"
        },
        "id": "v0-CV1i-uhr-",
        "outputId": "9b07f5d0-b510-46e8-b924-80a49f31c459"
      },
      "source": [
        "list1=[1,2,3,4,5,6,7,8,9]\n",
        "a=int(input(\"Enter the first index: \"))\n",
        "b=int(input(\"Enter the second index: \"))\n",
        "nd2=False\n",
        "print(list1[a:b])\n",
        "for i in list1[a:b]:\n",
        "  if nd2:\n",
        "    print(i)\n",
        "  nd2=~nd2"
      ],
      "execution_count": 7,
      "outputs": [
        {
          "output_type": "stream",
          "text": [
            "Enter the first index: 2\n",
            "Enter the second index: 7\n",
            "[3, 4, 5, 6, 7]\n",
            "4\n",
            "6\n"
          ],
          "name": "stdout"
        }
      ]
    },
    {
      "cell_type": "markdown",
      "metadata": {
        "id": "KVAu4qL4oIqP"
      },
      "source": [
        "## 12. Get the first element from each nested list in a list\n"
      ]
    },
    {
      "cell_type": "code",
      "metadata": {
        "colab": {
          "base_uri": "https://localhost:8080/"
        },
        "id": "C0TTdRhzvrrF",
        "outputId": "53929779-0c72-4af4-ccc6-3abb50785f1f"
      },
      "source": [
        "list1=[[1,2,3,4,5],[10,20,30,40,50],['a','b','c','d']]\n",
        "for i in range(len(list1)):\n",
        "  print(list1[i][0])"
      ],
      "execution_count": 8,
      "outputs": [
        {
          "output_type": "stream",
          "text": [
            "1\n",
            "10\n",
            "a\n"
          ],
          "name": "stdout"
        }
      ]
    },
    {
      "cell_type": "markdown",
      "metadata": {
        "id": "eCxkGegaoKDn"
      },
      "source": [
        "## 13. How to modify elements of the list?\n",
        "To modify elements of the list we just need to assign new value at that index.\n",
        "```py\n",
        "list[index] = new_value\n",
        "```\n"
      ]
    },
    {
      "cell_type": "markdown",
      "metadata": {
        "id": "tFYxzS-JoLh9"
      },
      "source": [
        "## 14. How to concatenate two lists?\n",
        "To concatinate two lists we use '+' between two list and assign it to new list\n",
        "```py\n",
        "new_list = list1 + list2\n",
        "```"
      ]
    },
    {
      "cell_type": "markdown",
      "metadata": {
        "id": "VkgN2vo4oM4A"
      },
      "source": [
        "## 15. How to add two lists element-wise in python?\n"
      ]
    },
    {
      "cell_type": "code",
      "metadata": {
        "colab": {
          "base_uri": "https://localhost:8080/"
        },
        "id": "w7UmionOJA9t",
        "outputId": "4fd1ebcb-f47a-4e94-9e0c-915258936475"
      },
      "source": [
        "list1=[1,2,3,4,5]\n",
        "list2=[6,7,8,9,10]\n",
        "new_list=[]\n",
        "for (i1,i2) in zip(list1,list2):\n",
        "  new_list.append(i1+i2)\n",
        "print(new_list)\n"
      ],
      "execution_count": 9,
      "outputs": [
        {
          "output_type": "stream",
          "text": [
            "[7, 9, 11, 13, 15]\n"
          ],
          "name": "stdout"
        }
      ]
    },
    {
      "cell_type": "markdown",
      "metadata": {
        "id": "HScYOz6aoOeG"
      },
      "source": [
        "## 16. Difference between del and clear?\n",
        "del(): Deletes given list or To remove items by slicing. <br/>\n",
        "clear(): Empty the entire list."
      ]
    },
    {
      "cell_type": "markdown",
      "metadata": {
        "id": "EZ8veC9hoQgf"
      },
      "source": [
        "## 17. Difference between remove and pop?\n",
        "remove(): Removes the given object from the list. Does not return any value.<br/>\n",
        "pop(): Removes the item at the given index from the list and return removed item."
      ]
    },
    {
      "cell_type": "markdown",
      "metadata": {
        "id": "3iKmIqoIoSIn"
      },
      "source": [
        "## 18. Difference between append and extend?\n",
        "append(): Adds an element to the list.\n",
        "extend(): Concatinate one iterable(Ex. list) to other iterable."
      ]
    },
    {
      "cell_type": "markdown",
      "metadata": {
        "id": "TaSbzTmmoTaW"
      },
      "source": [
        "## 19. Difference between indexing and Slicing?\n",
        "indexing: Referring to an element of an iterable by its position within the iterable.<br/>\n",
        "slicing: Getting a subset of elements from an iterable based on their indices."
      ]
    },
    {
      "cell_type": "markdown",
      "metadata": {
        "id": "XKASSkZMoU2G"
      },
      "source": [
        "## 20. Difference between sort and sorted?\n",
        "sort: It will modify(sort) original list.<br/>\n",
        "sorted: It will return new list with sorted values."
      ]
    },
    {
      "cell_type": "markdown",
      "metadata": {
        "id": "_hGaMA-xoW8-"
      },
      "source": [
        "## 21. Difference between reverse and reversed?\n",
        "reverse: It will modify(reverse) original list.<br/>\n",
        "reversed: It will return new list with reversed values."
      ]
    },
    {
      "cell_type": "markdown",
      "metadata": {
        "id": "wm01s0HeoYgm"
      },
      "source": [
        "## 22. Difference between copy and deepcopy?\n",
        "copy(): \n",
        "- Creates shalow copy, it stores the references of objects to the original memory address.\n",
        "- Shallow Copy reflects changes made to the new/copied object in the original object.   \n",
        "\n",
        "deepcopy():\n",
        "- Creates deep copy,it stores copies of the object’s value.\n",
        "- Deep copy doesn’t reflect changes made to the new/copied object in the original object."
      ]
    },
    {
      "cell_type": "markdown",
      "metadata": {
        "id": "ux4Offp5oazG"
      },
      "source": [
        "## 23. How to remove duplicate elements in the list?\n",
        "- To remove the duplicates from a list, we can make use of the built-in function set()\n",
        "- You can remove duplicates from the given list by importing OrderedDictfrom collections. \n",
        "- You can make\n",
        "use of a for-loop that we will traverse the list of items to remove duplicates."
      ]
    },
    {
      "cell_type": "markdown",
      "metadata": {
        "id": "pY1cvfI4ocU-"
      },
      "source": [
        "## 24. How to find an index of an element in the python list?\n",
        "To find index we can use inbuilt function index() method.\n",
        "```py\n",
        "x = list.index(element)\n",
        "```"
      ]
    },
    {
      "cell_type": "markdown",
      "metadata": {
        "id": "v1WYERlsoeae"
      },
      "source": [
        "## 25. How to find the occurrences of an element in the python list?\n",
        "To find occurance we use count() method.\n",
        "```py\n",
        "\n",
        "x = list.count(element)\n",
        "```"
      ]
    },
    {
      "cell_type": "markdown",
      "metadata": {
        "id": "rKruetuIofsu"
      },
      "source": [
        "## 26. How to insert an item at a given position?\n",
        "We use inbuilt insert() method.\n",
        "```py\n",
        "list.insert(position, element)\n",
        "```"
      ]
    },
    {
      "cell_type": "markdown",
      "metadata": {
        "id": "wiN9i5yXog-W"
      },
      "source": [
        "## 27. How to check if an item is in the list?\n",
        "we will cheack the condition \n",
        "```py\n",
        "if item in list\n",
        "```\n",
        "it will return true if element is present in the list else it gives false"
      ]
    },
    {
      "cell_type": "markdown",
      "metadata": {
        "id": "Ac-xcP2HoiW-"
      },
      "source": [
        "## 28. How to flatten a list in python?\n",
        "we will use flatten method of numpy array to flatten it.\n"
      ]
    },
    {
      "cell_type": "code",
      "metadata": {
        "colab": {
          "base_uri": "https://localhost:8080/"
        },
        "id": "bOOlyJCmhogy",
        "outputId": "dad2eeb0-d9a1-4d36-b73f-4be86e601b62"
      },
      "source": [
        "import numpy as np\n",
        "a = np.array([[1,2], [3,4]])\n",
        "a.flatten()"
      ],
      "execution_count": 10,
      "outputs": [
        {
          "output_type": "execute_result",
          "data": {
            "text/plain": [
              "array([1, 2, 3, 4])"
            ]
          },
          "metadata": {
            "tags": []
          },
          "execution_count": 10
        }
      ]
    },
    {
      "cell_type": "markdown",
      "metadata": {
        "id": "cmGoKafdojsG"
      },
      "source": [
        "## 29. How to convert python list to other data structures like set, tuple, dictionary?\n",
        "we do these conversions like this:\n",
        "```py\n",
        "lst = set(list)\n",
        "tup = tuple(list)\n",
        "dictionary = dict(list)\n",
        "```\n"
      ]
    },
    {
      "cell_type": "markdown",
      "metadata": {
        "id": "HRt-FugNolAO"
      },
      "source": [
        "## 30. How to apply a function to all items in the list?\n",
        "1. Using map(): map() methods take two arguments: iterables and functions and returns a map object. We use list() to convert the map object to a list. \n",
        "2. Using list comprehensions We use a list comprehension to call a function on each element of the list and then double it for this case.\n",
        "3. Using Lambda Function A lambda function can also be employed to produce the above functionality. Lambda is capable of creating an anonymous function that can be made enough to the given requirement"
      ]
    },
    {
      "cell_type": "markdown",
      "metadata": {
        "id": "RB1wzSkWomqG"
      },
      "source": [
        "## 31. How to filter the elements based on a function in a python list?\n",
        "Python has a built-in function called filter() that allows you to filter a list (or a tuple) in a more beautiful way. The filter() function iterates over the elements of the list and applies the *fn()* function to each element. It returns an iterator for the elements where the *fn()* returns True .\n",
        "```py\n",
        "filter(fn, list)\n",
        "```"
      ]
    },
    {
      "cell_type": "markdown",
      "metadata": {
        "id": "FGOXK3zXon9-"
      },
      "source": [
        "## 32. How python lists are stored in memory?\n",
        "Python lists store only references to the objects. The objects are kept separately in memory. Every object has a refcount, therefore every item in the list has a refcount. Numpy arrays (of standard np types) are stored as continuous blocks in memory and are only ONE object with one refcount.\n",
        "\n",
        "----------------"
      ]
    }
  ]
}